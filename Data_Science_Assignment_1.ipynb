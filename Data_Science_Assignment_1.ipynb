{
 "cells": [
  {
   "cell_type": "markdown",
   "metadata": {},
   "source": [
    "# Assignment 1 - US Census data\n",
    "\n",
    "This assignment is due on **September 6, 2017** at **11:59 pm**."
   ]
  },
  {
   "cell_type": "markdown",
   "metadata": {},
   "source": [
    "## Updates\n",
    "\n",
    "* Added probability questions\n",
    "* Added links to Dplyr resources"
   ]
  },
  {
   "cell_type": "markdown",
   "metadata": {},
   "source": [
    "## Preliminaries\n",
    "\n",
    "To work on this assignment, you will need three things:\n",
    "\n",
    "1. Your basic [R installation with Jupyter and the Tidyverse](https://boisestate.github.io/CS533/resources.html).\n",
    "2. The `censusapi` package, which can be installed with `conda install -c mdekstrand r-censusapi`.\n",
    "3. A US Census API key, which you can obtain [here](https://api.census.gov/data/key_signup.html). Sometimes data sets will require you to register to get access to them, and this is a good exampe.\n",
    "\n",
    "You can find documentation on the `censusapi` package in the [vignette](https://cran.r-project.org/web/packages/censusapi/vignettes/getting-started.html).\n",
    "\n",
    "For reference, see [R for Data Science Chapter 5](r4ds.had.co.nz/transform.html) and the [dplyr introduction](dplyr.tidyverse.org/articles/dplyr.html)."
   ]
  },
  {
   "cell_type": "code",
   "execution_count": 1,
   "metadata": {},
   "outputs": [
    {
     "name": "stderr",
     "output_type": "stream",
     "text": [
      "Loading tidyverse: ggplot2\n",
      "Loading tidyverse: tibble\n",
      "Loading tidyverse: tidyr\n",
      "Loading tidyverse: readr\n",
      "Loading tidyverse: purrr\n",
      "Loading tidyverse: dplyr\n",
      "Conflicts with tidy packages ---------------------------------------------------\n",
      "filter(): dplyr, stats\n",
      "lag():    dplyr, stats\n",
      "\n",
      "Attaching package: 'censusapi'\n",
      "\n",
      "The following object is masked from 'package:methods':\n",
      "\n",
      "    getFunction\n",
      "\n",
      "Loading required package: maps\n",
      "\n",
      "Attaching package: 'maps'\n",
      "\n",
      "The following object is masked from 'package:purrr':\n",
      "\n",
      "    map\n",
      "\n",
      "Loading required package: acs\n",
      "Loading required package: XML\n",
      "\n",
      "Attaching package: 'acs'\n",
      "\n",
      "The following object is masked from 'package:dplyr':\n",
      "\n",
      "    combine\n",
      "\n",
      "The following object is masked from 'package:base':\n",
      "\n",
      "    apply\n",
      "\n"
     ]
    }
   ],
   "source": [
    "library(tidyverse)\n",
    "library(censusapi)\n",
    "library(dplyr)\n",
    "library(stringr)\n",
    "library(ggplot2)\n",
    "library(mapdata)\n",
    "library(zipcode)\n",
    "library(\"choroplethrMaps\")\n",
    "library(\"choroplethr\")"
   ]
  },
  {
   "cell_type": "markdown",
   "metadata": {},
   "source": [
    "Set up your census key:"
   ]
  },
  {
   "cell_type": "code",
   "execution_count": 2,
   "metadata": {
    "collapsed": true
   },
   "outputs": [],
   "source": [
    "Sys.setenv(CENSUS_KEY=\"816a29b6cfc0a0cffd5d6e158bf863277f30e5b7\")"
   ]
  },
  {
   "cell_type": "markdown",
   "metadata": {},
   "source": [
    "## Loading Census Data\n",
    "\n",
    "The census data is scattered among a bunch of sources.  Accessing it is somewhat arcane.\n",
    "\n",
    "- The `sf1` data set is the _summary file_, containing summary statistics about each region in the _decennial census_.\n",
    "- The `vintage` says we want to use the 2010 census (the most recent one).\n",
    "- `vars` selects some variables to download; `NAME` is the name of the region, `P0010001` is the total population, and `P0420002` is the total institutionalized (imprisoned) population.  For more fun, see the [full list of variables](http://api.census.gov/data/2010/sf1/variables.html)."
   ]
  },
  {
   "cell_type": "code",
   "execution_count": 3,
   "metadata": {},
   "outputs": [
    {
     "data": {
      "text/html": [
       "<table>\n",
       "<thead><tr><th scope=col>NAME</th><th scope=col>state</th><th scope=col>P0010001</th><th scope=col>P0420003</th><th scope=col>P0420004</th></tr></thead>\n",
       "<tbody>\n",
       "\t<tr><td>Alabama   </td><td>01        </td><td> 4779736  </td><td> 41177    </td><td> 1768     </td></tr>\n",
       "\t<tr><td>Alaska    </td><td>02        </td><td>  710231  </td><td>  4206    </td><td>  515     </td></tr>\n",
       "\t<tr><td>Arizona   </td><td>04        </td><td> 6392017  </td><td> 67767    </td><td> 2347     </td></tr>\n",
       "\t<tr><td>Arkansas  </td><td>05        </td><td> 2915918  </td><td> 25844    </td><td> 2176     </td></tr>\n",
       "\t<tr><td>California</td><td>06        </td><td>37253956  </td><td>256807    </td><td>18610     </td></tr>\n",
       "\t<tr><td>Colorado  </td><td>08        </td><td> 5029196  </td><td> 40568    </td><td> 2645     </td></tr>\n",
       "</tbody>\n",
       "</table>\n"
      ],
      "text/latex": [
       "\\begin{tabular}{r|lllll}\n",
       " NAME & state & P0010001 & P0420003 & P0420004\\\\\n",
       "\\hline\n",
       "\t Alabama    & 01         &  4779736   &  41177     &  1768     \\\\\n",
       "\t Alaska     & 02         &   710231   &   4206     &   515     \\\\\n",
       "\t Arizona    & 04         &  6392017   &  67767     &  2347     \\\\\n",
       "\t Arkansas   & 05         &  2915918   &  25844     &  2176     \\\\\n",
       "\t California & 06         & 37253956   & 256807     & 18610     \\\\\n",
       "\t Colorado   & 08         &  5029196   &  40568     &  2645     \\\\\n",
       "\\end{tabular}\n"
      ],
      "text/markdown": [
       "\n",
       "NAME | state | P0010001 | P0420003 | P0420004 | \n",
       "|---|---|---|---|---|---|\n",
       "| Alabama    | 01         |  4779736   |  41177     |  1768      | \n",
       "| Alaska     | 02         |   710231   |   4206     |   515      | \n",
       "| Arizona    | 04         |  6392017   |  67767     |  2347      | \n",
       "| Arkansas   | 05         |  2915918   |  25844     |  2176      | \n",
       "| California | 06         | 37253956   | 256807     | 18610      | \n",
       "| Colorado   | 08         |  5029196   |  40568     |  2645      | \n",
       "\n",
       "\n"
      ],
      "text/plain": [
       "  NAME       state P0010001 P0420003 P0420004\n",
       "1 Alabama    01     4779736  41177    1768   \n",
       "2 Alaska     02      710231   4206     515   \n",
       "3 Arizona    04     6392017  67767    2347   \n",
       "4 Arkansas   05     2915918  25844    2176   \n",
       "5 California 06    37253956 256807   18610   \n",
       "6 Colorado   08     5029196  40568    2645   "
      ]
     },
     "metadata": {},
     "output_type": "display_data"
    }
   ],
   "source": [
    "last_census = getCensus(name=\"sf1\", vintage=2010, vars=c(\"NAME\", \"P0010001\", \"P0420003\",\"P0420004\"), region=\"state:*\")\n",
    "head(last_census)"
   ]
  },
  {
   "cell_type": "code",
   "execution_count": 4,
   "metadata": {
    "collapsed": true
   },
   "outputs": [],
   "source": [
    "last_census <- last_census %>% mutate(Prisoners = (P0420003 + P0420004))"
   ]
  },
  {
   "cell_type": "markdown",
   "metadata": {},
   "source": [
    "I recommend that you rename the fields to be something more meaningful before proceeding!"
   ]
  },
  {
   "cell_type": "code",
   "execution_count": 5,
   "metadata": {
    "collapsed": true
   },
   "outputs": [],
   "source": [
    "names(last_census) <- c('Region', 'State_ID', 'Total_Population', 'Adult','Juvenile', 'Prison_Population') "
   ]
  },
  {
   "cell_type": "code",
   "execution_count": 6,
   "metadata": {},
   "outputs": [
    {
     "data": {
      "text/html": [
       "<table>\n",
       "<thead><tr><th scope=col>Region</th><th scope=col>State_ID</th><th scope=col>Total_Population</th><th scope=col>Prison_Population</th></tr></thead>\n",
       "<tbody>\n",
       "\t<tr><td>Alabama   </td><td>01        </td><td> 4779736  </td><td> 42945    </td></tr>\n",
       "\t<tr><td>Alaska    </td><td>02        </td><td>  710231  </td><td>  4721    </td></tr>\n",
       "\t<tr><td>Arizona   </td><td>04        </td><td> 6392017  </td><td> 70114    </td></tr>\n",
       "\t<tr><td>Arkansas  </td><td>05        </td><td> 2915918  </td><td> 28020    </td></tr>\n",
       "\t<tr><td>California</td><td>06        </td><td>37253956  </td><td>275417    </td></tr>\n",
       "\t<tr><td>Colorado  </td><td>08        </td><td> 5029196  </td><td> 43213    </td></tr>\n",
       "</tbody>\n",
       "</table>\n"
      ],
      "text/latex": [
       "\\begin{tabular}{r|llll}\n",
       " Region & State\\_ID & Total\\_Population & Prison\\_Population\\\\\n",
       "\\hline\n",
       "\t Alabama    & 01         &  4779736   &  42945    \\\\\n",
       "\t Alaska     & 02         &   710231   &   4721    \\\\\n",
       "\t Arizona    & 04         &  6392017   &  70114    \\\\\n",
       "\t Arkansas   & 05         &  2915918   &  28020    \\\\\n",
       "\t California & 06         & 37253956   & 275417    \\\\\n",
       "\t Colorado   & 08         &  5029196   &  43213    \\\\\n",
       "\\end{tabular}\n"
      ],
      "text/markdown": [
       "\n",
       "Region | State_ID | Total_Population | Prison_Population | \n",
       "|---|---|---|---|---|---|\n",
       "| Alabama    | 01         |  4779736   |  42945     | \n",
       "| Alaska     | 02         |   710231   |   4721     | \n",
       "| Arizona    | 04         |  6392017   |  70114     | \n",
       "| Arkansas   | 05         |  2915918   |  28020     | \n",
       "| California | 06         | 37253956   | 275417     | \n",
       "| Colorado   | 08         |  5029196   |  43213     | \n",
       "\n",
       "\n"
      ],
      "text/plain": [
       "  Region     State_ID Total_Population Prison_Population\n",
       "1 Alabama    01        4779736          42945           \n",
       "2 Alaska     02         710231           4721           \n",
       "3 Arizona    04        6392017          70114           \n",
       "4 Arkansas   05        2915918          28020           \n",
       "5 California 06       37253956         275417           \n",
       "6 Colorado   08        5029196          43213           "
      ]
     },
     "metadata": {},
     "output_type": "display_data"
    }
   ],
   "source": [
    "last_census <- last_census %>% select(Region, State_ID, Total_Population, Prison_Population)\n",
    "head(last_census)"
   ]
  },
  {
   "cell_type": "markdown",
   "metadata": {},
   "source": [
    "## Initial Questions\n",
    "\n",
    "Write R code and text to answer the following questions:"
   ]
  },
  {
   "cell_type": "markdown",
   "metadata": {},
   "source": [
    "### Most Populus States\n",
    "\n",
    "- #### What 5 states have the highest population?\n",
    "\n",
    "**Hint:** the `arrange` dplyr verb will sort data."
   ]
  },
  {
   "cell_type": "code",
   "execution_count": 7,
   "metadata": {
    "collapsed": true
   },
   "outputs": [],
   "source": [
    "Ans <- arrange(last_census, desc(Total_Population)) %>% slice(1:5)"
   ]
  },
  {
   "cell_type": "code",
   "execution_count": 8,
   "metadata": {},
   "outputs": [
    {
     "data": {
      "text/html": [
       "<table>\n",
       "<thead><tr><th scope=col>Region</th><th scope=col>State_ID</th><th scope=col>Total_Population</th><th scope=col>Prison_Population</th></tr></thead>\n",
       "<tbody>\n",
       "\t<tr><td>California</td><td>06        </td><td>37253956  </td><td>275417    </td></tr>\n",
       "\t<tr><td>Texas     </td><td>48        </td><td>25145561  </td><td>277313    </td></tr>\n",
       "\t<tr><td>New York  </td><td>36        </td><td>19378102  </td><td>104455    </td></tr>\n",
       "\t<tr><td>Florida   </td><td>12        </td><td>18801310  </td><td>177514    </td></tr>\n",
       "\t<tr><td>Illinois  </td><td>17        </td><td>12830632  </td><td> 75110    </td></tr>\n",
       "</tbody>\n",
       "</table>\n"
      ],
      "text/latex": [
       "\\begin{tabular}{r|llll}\n",
       " Region & State\\_ID & Total\\_Population & Prison\\_Population\\\\\n",
       "\\hline\n",
       "\t California & 06         & 37253956   & 275417    \\\\\n",
       "\t Texas      & 48         & 25145561   & 277313    \\\\\n",
       "\t New York   & 36         & 19378102   & 104455    \\\\\n",
       "\t Florida    & 12         & 18801310   & 177514    \\\\\n",
       "\t Illinois   & 17         & 12830632   &  75110    \\\\\n",
       "\\end{tabular}\n"
      ],
      "text/markdown": [
       "\n",
       "Region | State_ID | Total_Population | Prison_Population | \n",
       "|---|---|---|---|---|\n",
       "| California | 06         | 37253956   | 275417     | \n",
       "| Texas      | 48         | 25145561   | 277313     | \n",
       "| New York   | 36         | 19378102   | 104455     | \n",
       "| Florida    | 12         | 18801310   | 177514     | \n",
       "| Illinois   | 17         | 12830632   |  75110     | \n",
       "\n",
       "\n"
      ],
      "text/plain": [
       "  Region     State_ID Total_Population Prison_Population\n",
       "1 California 06       37253956         275417           \n",
       "2 Texas      48       25145561         277313           \n",
       "3 New York   36       19378102         104455           \n",
       "4 Florida    12       18801310         177514           \n",
       "5 Illinois   17       12830632          75110           "
      ]
     },
     "metadata": {},
     "output_type": "display_data"
    }
   ],
   "source": [
    "Ans"
   ]
  },
  {
   "cell_type": "markdown",
   "metadata": {},
   "source": [
    "### Highest Prison Populations\n",
    "\n",
    "- #### What 5 states have the highest prison populations?"
   ]
  },
  {
   "cell_type": "code",
   "execution_count": 9,
   "metadata": {
    "collapsed": true
   },
   "outputs": [],
   "source": [
    "Ans <- arrange(last_census, desc(Prison_Population))%>% slice(1:5)"
   ]
  },
  {
   "cell_type": "code",
   "execution_count": 10,
   "metadata": {},
   "outputs": [
    {
     "data": {
      "text/html": [
       "<table>\n",
       "<thead><tr><th scope=col>Region</th><th scope=col>State_ID</th><th scope=col>Total_Population</th><th scope=col>Prison_Population</th></tr></thead>\n",
       "<tbody>\n",
       "\t<tr><td>Texas       </td><td>48          </td><td>25145561    </td><td>277313      </td></tr>\n",
       "\t<tr><td>California  </td><td>06          </td><td>37253956    </td><td>275417      </td></tr>\n",
       "\t<tr><td>Florida     </td><td>12          </td><td>18801310    </td><td>177514      </td></tr>\n",
       "\t<tr><td>Georgia     </td><td>13          </td><td> 9687653    </td><td>107979      </td></tr>\n",
       "\t<tr><td>Pennsylvania</td><td>42          </td><td>12702379    </td><td>106660      </td></tr>\n",
       "</tbody>\n",
       "</table>\n"
      ],
      "text/latex": [
       "\\begin{tabular}{r|llll}\n",
       " Region & State\\_ID & Total\\_Population & Prison\\_Population\\\\\n",
       "\\hline\n",
       "\t Texas        & 48           & 25145561     & 277313      \\\\\n",
       "\t California   & 06           & 37253956     & 275417      \\\\\n",
       "\t Florida      & 12           & 18801310     & 177514      \\\\\n",
       "\t Georgia      & 13           &  9687653     & 107979      \\\\\n",
       "\t Pennsylvania & 42           & 12702379     & 106660      \\\\\n",
       "\\end{tabular}\n"
      ],
      "text/markdown": [
       "\n",
       "Region | State_ID | Total_Population | Prison_Population | \n",
       "|---|---|---|---|---|\n",
       "| Texas        | 48           | 25145561     | 277313       | \n",
       "| California   | 06           | 37253956     | 275417       | \n",
       "| Florida      | 12           | 18801310     | 177514       | \n",
       "| Georgia      | 13           |  9687653     | 107979       | \n",
       "| Pennsylvania | 42           | 12702379     | 106660       | \n",
       "\n",
       "\n"
      ],
      "text/plain": [
       "  Region       State_ID Total_Population Prison_Population\n",
       "1 Texas        48       25145561         277313           \n",
       "2 California   06       37253956         275417           \n",
       "3 Florida      12       18801310         177514           \n",
       "4 Georgia      13        9687653         107979           \n",
       "5 Pennsylvania 42       12702379         106660           "
      ]
     },
     "metadata": {},
     "output_type": "display_data"
    }
   ],
   "source": [
    "Ans"
   ]
  },
  {
   "cell_type": "markdown",
   "metadata": {},
   "source": [
    "### Prisoners per Capita\n",
    "\n",
    "- #### What 5 states have the most prisoners per capita?"
   ]
  },
  {
   "cell_type": "code",
   "execution_count": 11,
   "metadata": {
    "collapsed": true
   },
   "outputs": [],
   "source": [
    "last_census <- last_census %>% mutate(Prisoners_per_capita= (Prison_Population / Total_Population))"
   ]
  },
  {
   "cell_type": "code",
   "execution_count": 12,
   "metadata": {
    "collapsed": true
   },
   "outputs": [],
   "source": [
    "Ans <-arrange(last_census, desc(Prisoners_per_capita), Region) %>% slice(1:5)"
   ]
  },
  {
   "cell_type": "code",
   "execution_count": 13,
   "metadata": {},
   "outputs": [
    {
     "data": {
      "text/html": [
       "<table>\n",
       "<thead><tr><th scope=col>Region</th><th scope=col>State_ID</th><th scope=col>Total_Population</th><th scope=col>Prison_Population</th><th scope=col>Prisoners_per_capita</th></tr></thead>\n",
       "<tbody>\n",
       "\t<tr><td>Louisiana  </td><td>22         </td><td> 4533372   </td><td> 62257     </td><td>0.01373304 </td></tr>\n",
       "\t<tr><td>Mississippi</td><td>28         </td><td> 2967297   </td><td> 36520     </td><td>0.01230750 </td></tr>\n",
       "\t<tr><td>Oklahoma   </td><td>40         </td><td> 3751351   </td><td> 42113     </td><td>0.01122609 </td></tr>\n",
       "\t<tr><td>Georgia    </td><td>13         </td><td> 9687653   </td><td>107979     </td><td>0.01114604 </td></tr>\n",
       "\t<tr><td>Texas      </td><td>48         </td><td>25145561   </td><td>277313     </td><td>0.01102831 </td></tr>\n",
       "</tbody>\n",
       "</table>\n"
      ],
      "text/latex": [
       "\\begin{tabular}{r|lllll}\n",
       " Region & State\\_ID & Total\\_Population & Prison\\_Population & Prisoners\\_per\\_capita\\\\\n",
       "\\hline\n",
       "\t Louisiana   & 22          &  4533372    &  62257      & 0.01373304 \\\\\n",
       "\t Mississippi & 28          &  2967297    &  36520      & 0.01230750 \\\\\n",
       "\t Oklahoma    & 40          &  3751351    &  42113      & 0.01122609 \\\\\n",
       "\t Georgia     & 13          &  9687653    & 107979      & 0.01114604 \\\\\n",
       "\t Texas       & 48          & 25145561    & 277313      & 0.01102831 \\\\\n",
       "\\end{tabular}\n"
      ],
      "text/markdown": [
       "\n",
       "Region | State_ID | Total_Population | Prison_Population | Prisoners_per_capita | \n",
       "|---|---|---|---|---|\n",
       "| Louisiana   | 22          |  4533372    |  62257      | 0.01373304  | \n",
       "| Mississippi | 28          |  2967297    |  36520      | 0.01230750  | \n",
       "| Oklahoma    | 40          |  3751351    |  42113      | 0.01122609  | \n",
       "| Georgia     | 13          |  9687653    | 107979      | 0.01114604  | \n",
       "| Texas       | 48          | 25145561    | 277313      | 0.01102831  | \n",
       "\n",
       "\n"
      ],
      "text/plain": [
       "  Region      State_ID Total_Population Prison_Population Prisoners_per_capita\n",
       "1 Louisiana   22        4533372          62257            0.01373304          \n",
       "2 Mississippi 28        2967297          36520            0.01230750          \n",
       "3 Oklahoma    40        3751351          42113            0.01122609          \n",
       "4 Georgia     13        9687653         107979            0.01114604          \n",
       "5 Texas       48       25145561         277313            0.01102831          "
      ]
     },
     "metadata": {},
     "output_type": "display_data"
    }
   ],
   "source": [
    "Ans"
   ]
  },
  {
   "cell_type": "markdown",
   "metadata": {},
   "source": [
    "### Probability\n",
    "\n",
    "- #### What is the probability that a person selected at random is born in Rhode Island?"
   ]
  },
  {
   "cell_type": "code",
   "execution_count": 14,
   "metadata": {
    "collapsed": true
   },
   "outputs": [],
   "source": [
    "total = sum(last_census$Total_Pop)"
   ]
  },
  {
   "cell_type": "code",
   "execution_count": 15,
   "metadata": {
    "collapsed": true
   },
   "outputs": [],
   "source": [
    "prob_person_rhodeisland <- function(x) {        \n",
    "    #Pop<-last_census%>%select(Region, Total_Pop)%>%filter(Region==x)%>%select(Total_Pop)    \n",
    "    pop <- last_census %>% filter(Region == x)\n",
    "    prob = pop$Total_Pop/total\n",
    "}"
   ]
  },
  {
   "cell_type": "code",
   "execution_count": 16,
   "metadata": {},
   "outputs": [
    {
     "data": {
      "text/html": [
       "0.00336852347415544"
      ],
      "text/latex": [
       "0.00336852347415544"
      ],
      "text/markdown": [
       "0.00336852347415544"
      ],
      "text/plain": [
       "[1] 0.003368523"
      ]
     },
     "metadata": {},
     "output_type": "display_data"
    }
   ],
   "source": [
    "(prob_person_rhodeisland(\"Rhode Island\"))"
   ]
  },
  {
   "cell_type": "markdown",
   "metadata": {},
   "source": [
    "- #### What is the probability that a person is born in one of the Dakotas (North Dakota or South Dakota)?"
   ]
  },
  {
   "cell_type": "code",
   "execution_count": 17,
   "metadata": {
    "collapsed": true
   },
   "outputs": [],
   "source": [
    "BothDakotas <- last_census%>%filter(str_detect(Region, \"Dakota\"))"
   ]
  },
  {
   "cell_type": "code",
   "execution_count": 18,
   "metadata": {},
   "outputs": [
    {
     "data": {
      "text/html": [
       "0.00475810377315036"
      ],
      "text/latex": [
       "0.00475810377315036"
      ],
      "text/markdown": [
       "0.00475810377315036"
      ],
      "text/plain": [
       "[1] 0.004758104"
      ]
     },
     "metadata": {},
     "output_type": "display_data"
    }
   ],
   "source": [
    "sum(BothDakotas$Total_Pop)/total"
   ]
  },
  {
   "cell_type": "markdown",
   "metadata": {},
   "source": [
    "## Visualization\n",
    "\n",
    "- #### Plot a histogram of state populations."
   ]
  },
  {
   "cell_type": "code",
   "execution_count": 19,
   "metadata": {
    "collapsed": true
   },
   "outputs": [],
   "source": [
    "hist <- ggplot(data=last_census) +\n",
    "geom_histogram(mapping = aes(x = Total_Population))"
   ]
  },
  {
   "cell_type": "code",
   "execution_count": 20,
   "metadata": {},
   "outputs": [
    {
     "name": "stderr",
     "output_type": "stream",
     "text": [
      "`stat_bin()` using `bins = 30`. Pick better value with `binwidth`.\n"
     ]
    },
    {
     "data": {},
     "metadata": {},
     "output_type": "display_data"
    },
    {
     "data": {
      "image/png": "[encoded data removed]",
      "text/plain": [
       "plot without title"
      ]
     },
     "metadata": {},
     "output_type": "display_data"
    }
   ],
   "source": [
    "hist"
   ]
  },
  {
   "cell_type": "markdown",
   "metadata": {},
   "source": [
    "- #### Plot a histogram of _county_ populations.  You can get counties by using `county:*` as your selector instead of `state:*` in a `getCensus` call."
   ]
  },
  {
   "cell_type": "code",
   "execution_count": 21,
   "metadata": {
    "collapsed": true
   },
   "outputs": [],
   "source": [
    "county_population <- getCensus(name=\"sf1\", vintage=2010, vars=c(\"NAME\", \"P0010001\", \"P0420003\",\"P0420004\"), region=\"county:*\")"
   ]
  },
  {
   "cell_type": "code",
   "execution_count": 22,
   "metadata": {},
   "outputs": [
    {
     "data": {
      "text/html": [
       "<table>\n",
       "<thead><tr><th scope=col>NAME</th><th scope=col>state</th><th scope=col>county</th><th scope=col>P0010001</th><th scope=col>P0420003</th><th scope=col>P0420004</th></tr></thead>\n",
       "<tbody>\n",
       "\t<tr><td>Autauga County</td><td>01            </td><td>001           </td><td> 54571        </td><td> 181          </td><td> 0            </td></tr>\n",
       "\t<tr><td>Baldwin County</td><td>01            </td><td>003           </td><td>182265        </td><td>1050          </td><td>48            </td></tr>\n",
       "\t<tr><td>Barbour County</td><td>01            </td><td>005           </td><td> 27457        </td><td>3044          </td><td> 0            </td></tr>\n",
       "\t<tr><td>Bibb County   </td><td>01            </td><td>007           </td><td> 22915        </td><td>2007          </td><td>70            </td></tr>\n",
       "\t<tr><td>Blount County </td><td>01            </td><td>009           </td><td> 57322        </td><td> 129          </td><td> 0            </td></tr>\n",
       "\t<tr><td>Bullock County</td><td>01            </td><td>011           </td><td> 10914        </td><td>1528          </td><td> 0            </td></tr>\n",
       "</tbody>\n",
       "</table>\n"
      ],
      "text/latex": [
       "\\begin{tabular}{r|llllll}\n",
       " NAME & state & county & P0010001 & P0420003 & P0420004\\\\\n",
       "\\hline\n",
       "\t Autauga County & 01             & 001            &  54571         &  181           &  0            \\\\\n",
       "\t Baldwin County & 01             & 003            & 182265         & 1050           & 48            \\\\\n",
       "\t Barbour County & 01             & 005            &  27457         & 3044           &  0            \\\\\n",
       "\t Bibb County    & 01             & 007            &  22915         & 2007           & 70            \\\\\n",
       "\t Blount County  & 01             & 009            &  57322         &  129           &  0            \\\\\n",
       "\t Bullock County & 01             & 011            &  10914         & 1528           &  0            \\\\\n",
       "\\end{tabular}\n"
      ],
      "text/markdown": [
       "\n",
       "NAME | state | county | P0010001 | P0420003 | P0420004 | \n",
       "|---|---|---|---|---|---|\n",
       "| Autauga County | 01             | 001            |  54571         |  181           |  0             | \n",
       "| Baldwin County | 01             | 003            | 182265         | 1050           | 48             | \n",
       "| Barbour County | 01             | 005            |  27457         | 3044           |  0             | \n",
       "| Bibb County    | 01             | 007            |  22915         | 2007           | 70             | \n",
       "| Blount County  | 01             | 009            |  57322         |  129           |  0             | \n",
       "| Bullock County | 01             | 011            |  10914         | 1528           |  0             | \n",
       "\n",
       "\n"
      ],
      "text/plain": [
       "  NAME           state county P0010001 P0420003 P0420004\n",
       "1 Autauga County 01    001     54571    181      0      \n",
       "2 Baldwin County 01    003    182265   1050     48      \n",
       "3 Barbour County 01    005     27457   3044      0      \n",
       "4 Bibb County    01    007     22915   2007     70      \n",
       "5 Blount County  01    009     57322    129      0      \n",
       "6 Bullock County 01    011     10914   1528      0      "
      ]
     },
     "metadata": {},
     "output_type": "display_data"
    }
   ],
   "source": [
    "head(county_population)"
   ]
  },
  {
   "cell_type": "code",
   "execution_count": 23,
   "metadata": {},
   "outputs": [
    {
     "data": {
      "text/html": [
       "<table>\n",
       "<thead><tr><th scope=col>County</th><th scope=col>State_ID</th><th scope=col>County_ID</th><th scope=col>Total_Population</th><th scope=col>Adult</th><th scope=col>Juvenile</th><th scope=col>Prison_Population</th></tr></thead>\n",
       "<tbody>\n",
       "\t<tr><td>Autauga County</td><td>01            </td><td>001           </td><td> 54571        </td><td> 181          </td><td> 0            </td><td> 181          </td></tr>\n",
       "\t<tr><td>Baldwin County</td><td>01            </td><td>003           </td><td>182265        </td><td>1050          </td><td>48            </td><td>1098          </td></tr>\n",
       "\t<tr><td>Barbour County</td><td>01            </td><td>005           </td><td> 27457        </td><td>3044          </td><td> 0            </td><td>3044          </td></tr>\n",
       "\t<tr><td>Bibb County   </td><td>01            </td><td>007           </td><td> 22915        </td><td>2007          </td><td>70            </td><td>2077          </td></tr>\n",
       "\t<tr><td>Blount County </td><td>01            </td><td>009           </td><td> 57322        </td><td> 129          </td><td> 0            </td><td> 129          </td></tr>\n",
       "\t<tr><td>Bullock County</td><td>01            </td><td>011           </td><td> 10914        </td><td>1528          </td><td> 0            </td><td>1528          </td></tr>\n",
       "</tbody>\n",
       "</table>\n"
      ],
      "text/latex": [
       "\\begin{tabular}{r|lllllll}\n",
       " County & State\\_ID & County\\_ID & Total\\_Population & Adult & Juvenile & Prison\\_Population\\\\\n",
       "\\hline\n",
       "\t Autauga County & 01             & 001            &  54571         &  181           &  0             &  181          \\\\\n",
       "\t Baldwin County & 01             & 003            & 182265         & 1050           & 48             & 1098          \\\\\n",
       "\t Barbour County & 01             & 005            &  27457         & 3044           &  0             & 3044          \\\\\n",
       "\t Bibb County    & 01             & 007            &  22915         & 2007           & 70             & 2077          \\\\\n",
       "\t Blount County  & 01             & 009            &  57322         &  129           &  0             &  129          \\\\\n",
       "\t Bullock County & 01             & 011            &  10914         & 1528           &  0             & 1528          \\\\\n",
       "\\end{tabular}\n"
      ],
      "text/markdown": [
       "\n",
       "County | State_ID | County_ID | Total_Population | Adult | Juvenile | Prison_Population | \n",
       "|---|---|---|---|---|---|\n",
       "| Autauga County | 01             | 001            |  54571         |  181           |  0             |  181           | \n",
       "| Baldwin County | 01             | 003            | 182265         | 1050           | 48             | 1098           | \n",
       "| Barbour County | 01             | 005            |  27457         | 3044           |  0             | 3044           | \n",
       "| Bibb County    | 01             | 007            |  22915         | 2007           | 70             | 2077           | \n",
       "| Blount County  | 01             | 009            |  57322         |  129           |  0             |  129           | \n",
       "| Bullock County | 01             | 011            |  10914         | 1528           |  0             | 1528           | \n",
       "\n",
       "\n"
      ],
      "text/plain": [
       "  County         State_ID County_ID Total_Population Adult Juvenile\n",
       "1 Autauga County 01       001        54571            181   0      \n",
       "2 Baldwin County 01       003       182265           1050  48      \n",
       "3 Barbour County 01       005        27457           3044   0      \n",
       "4 Bibb County    01       007        22915           2007  70      \n",
       "5 Blount County  01       009        57322            129   0      \n",
       "6 Bullock County 01       011        10914           1528   0      \n",
       "  Prison_Population\n",
       "1  181             \n",
       "2 1098             \n",
       "3 3044             \n",
       "4 2077             \n",
       "5  129             \n",
       "6 1528             "
      ]
     },
     "metadata": {},
     "output_type": "display_data"
    }
   ],
   "source": [
    "names(county_population) <- c('County', 'State_ID', 'County_ID' , 'Total_Population', 'Adult', 'Juvenile') #Renamed the fields\n",
    "county_population <- county_population %>% mutate(Prison_Population = Adult + Juvenile)\n",
    "head(county_population)"
   ]
  },
  {
   "cell_type": "code",
   "execution_count": 24,
   "metadata": {
    "collapsed": true
   },
   "outputs": [],
   "source": [
    "hist <- ggplot(data = county_population) +\n",
    "geom_histogram(mapping = aes(x = Total_Population))"
   ]
  },
  {
   "cell_type": "code",
   "execution_count": 25,
   "metadata": {},
   "outputs": [
    {
     "name": "stderr",
     "output_type": "stream",
     "text": [
      "`stat_bin()` using `bins = 30`. Pick better value with `binwidth`.\n"
     ]
    },
    {
     "data": {},
     "metadata": {},
     "output_type": "display_data"
    },
    {
     "data": {
      "image/png": "[encoded data removed]",
      "text/plain": [
       "plot without title"
      ]
     },
     "metadata": {},
     "output_type": "display_data"
    }
   ],
   "source": [
    "hist"
   ]
  },
  {
   "cell_type": "markdown",
   "metadata": {},
   "source": [
    "- #### What are the largest 5 counties in Idaho?"
   ]
  },
  {
   "cell_type": "code",
   "execution_count": 26,
   "metadata": {},
   "outputs": [
    {
     "data": {
      "text/html": [
       "<table>\n",
       "<thead><tr><th scope=col>County</th><th scope=col>Total_Population</th></tr></thead>\n",
       "<tbody>\n",
       "\t<tr><td>Ada County       </td><td>392365           </td></tr>\n",
       "\t<tr><td>Canyon County    </td><td>188923           </td></tr>\n",
       "\t<tr><td>Kootenai County  </td><td>138494           </td></tr>\n",
       "\t<tr><td>Bonneville County</td><td>104234           </td></tr>\n",
       "\t<tr><td>Bannock County   </td><td> 82839           </td></tr>\n",
       "</tbody>\n",
       "</table>\n"
      ],
      "text/latex": [
       "\\begin{tabular}{r|ll}\n",
       " County & Total\\_Population\\\\\n",
       "\\hline\n",
       "\t Ada County        & 392365           \\\\\n",
       "\t Canyon County     & 188923           \\\\\n",
       "\t Kootenai County   & 138494           \\\\\n",
       "\t Bonneville County & 104234           \\\\\n",
       "\t Bannock County    &  82839           \\\\\n",
       "\\end{tabular}\n"
      ],
      "text/markdown": [
       "\n",
       "County | Total_Population | \n",
       "|---|---|---|---|---|\n",
       "| Ada County        | 392365            | \n",
       "| Canyon County     | 188923            | \n",
       "| Kootenai County   | 138494            | \n",
       "| Bonneville County | 104234            | \n",
       "| Bannock County    |  82839            | \n",
       "\n",
       "\n"
      ],
      "text/plain": [
       "  County            Total_Population\n",
       "1 Ada County        392365          \n",
       "2 Canyon County     188923          \n",
       "3 Kootenai County   138494          \n",
       "4 Bonneville County 104234          \n",
       "5 Bannock County     82839          "
      ]
     },
     "metadata": {},
     "output_type": "display_data"
    }
   ],
   "source": [
    "Idaho_Counties <- county_population %>% filter(State_ID == 16) %>% select(County, Total_Population) %>% arrange(desc(Total_Population)) %>% slice(1:5)\n",
    "Idaho_Counties"
   ]
  },
  {
   "cell_type": "code",
   "execution_count": 27,
   "metadata": {
    "collapsed": true
   },
   "outputs": [],
   "source": [
    "plot <- ggplot(Idaho_Counties, aes(x = County, y = Total_Population, fill = County)) +\n",
    "geom_bar(stat = \"identity\",  width = 0.7) +\n",
    "geom_text(aes(label = Total_Population), vjust = 1.8, size = 2.5, color = \"white\") +\n",
    "theme_minimal() + guides(fill = FALSE)"
   ]
  },
  {
   "cell_type": "code",
   "execution_count": 28,
   "metadata": {},
   "outputs": [
    {
     "data": {},
     "metadata": {},
     "output_type": "display_data"
    },
    {
     "data": {
      "image/png": "[encoded data removed]",
      "text/plain": [
       "plot without title"
      ]
     },
     "metadata": {},
     "output_type": "display_data"
    }
   ],
   "source": [
    "plot"
   ]
  },
  {
   "cell_type": "markdown",
   "metadata": {},
   "source": [
    "## Joining Data\n",
    "\n",
    "For the next section, we want to work with _two_ data sets.\n",
    "\n",
    "Fetch the 2000 data set as well. Unfortunately, they changed the variable names!  You can find the 2000 list [here](http://api.census.gov/data/2000/sf1/variables.html); the key thing is that, for example, the total population variable is now `P001001`"
   ]
  },
  {
   "cell_type": "code",
   "execution_count": 29,
   "metadata": {},
   "outputs": [
    {
     "data": {
      "text/html": [
       "<table>\n",
       "<thead><tr><th scope=col>NAME</th><th scope=col>state</th><th scope=col>P001001</th></tr></thead>\n",
       "<tbody>\n",
       "\t<tr><td>Alabama   </td><td>01        </td><td> 4447100  </td></tr>\n",
       "\t<tr><td>Alaska    </td><td>02        </td><td>  626932  </td></tr>\n",
       "\t<tr><td>Arizona   </td><td>04        </td><td> 5130632  </td></tr>\n",
       "\t<tr><td>Arkansas  </td><td>05        </td><td> 2673400  </td></tr>\n",
       "\t<tr><td>California</td><td>06        </td><td>33871648  </td></tr>\n",
       "\t<tr><td>Colorado  </td><td>08        </td><td> 4301261  </td></tr>\n",
       "</tbody>\n",
       "</table>\n"
      ],
      "text/latex": [
       "\\begin{tabular}{r|lll}\n",
       " NAME & state & P001001\\\\\n",
       "\\hline\n",
       "\t Alabama    & 01         &  4447100  \\\\\n",
       "\t Alaska     & 02         &   626932  \\\\\n",
       "\t Arizona    & 04         &  5130632  \\\\\n",
       "\t Arkansas   & 05         &  2673400  \\\\\n",
       "\t California & 06         & 33871648  \\\\\n",
       "\t Colorado   & 08         &  4301261  \\\\\n",
       "\\end{tabular}\n"
      ],
      "text/markdown": [
       "\n",
       "NAME | state | P001001 | \n",
       "|---|---|---|---|---|---|\n",
       "| Alabama    | 01         |  4447100   | \n",
       "| Alaska     | 02         |   626932   | \n",
       "| Arizona    | 04         |  5130632   | \n",
       "| Arkansas   | 05         |  2673400   | \n",
       "| California | 06         | 33871648   | \n",
       "| Colorado   | 08         |  4301261   | \n",
       "\n",
       "\n"
      ],
      "text/plain": [
       "  NAME       state P001001 \n",
       "1 Alabama    01     4447100\n",
       "2 Alaska     02      626932\n",
       "3 Arizona    04     5130632\n",
       "4 Arkansas   05     2673400\n",
       "5 California 06    33871648\n",
       "6 Colorado   08     4301261"
      ]
     },
     "metadata": {},
     "output_type": "display_data"
    }
   ],
   "source": [
    "past_census <- getCensus(name=\"sf1\", vintage=2000, vars=c(\"NAME\", \"P001001\"), region=\"state:*\")\n",
    "head(past_census)"
   ]
  },
  {
   "cell_type": "code",
   "execution_count": 30,
   "metadata": {
    "collapsed": true
   },
   "outputs": [],
   "source": [
    "names(past_census) <- c(\"Region\", \"State_ID\",\"Total_Population\")"
   ]
  },
  {
   "cell_type": "markdown",
   "metadata": {},
   "source": [
    "You will need to connect the two data sets; the `inner_join` dplyr verb is used for this."
   ]
  },
  {
   "cell_type": "code",
   "execution_count": 31,
   "metadata": {
    "collapsed": true
   },
   "outputs": [],
   "source": [
    "total_census <- past_census %>% inner_join(last_census, by=\"State_ID\")"
   ]
  },
  {
   "cell_type": "code",
   "execution_count": 32,
   "metadata": {},
   "outputs": [
    {
     "data": {
      "text/html": [
       "<ol class=list-inline>\n",
       "\t<li>'Region.x'</li>\n",
       "\t<li>'State_ID'</li>\n",
       "\t<li>'Total_Population.x'</li>\n",
       "\t<li>'Region.y'</li>\n",
       "\t<li>'Total_Population.y'</li>\n",
       "\t<li>'Prison_Population'</li>\n",
       "\t<li>'Prisoners_per_capita'</li>\n",
       "</ol>\n"
      ],
      "text/latex": [
       "\\begin{enumerate*}\n",
       "\\item 'Region.x'\n",
       "\\item 'State\\_ID'\n",
       "\\item 'Total\\_Population.x'\n",
       "\\item 'Region.y'\n",
       "\\item 'Total\\_Population.y'\n",
       "\\item 'Prison\\_Population'\n",
       "\\item 'Prisoners\\_per\\_capita'\n",
       "\\end{enumerate*}\n"
      ],
      "text/markdown": [
       "1. 'Region.x'\n",
       "2. 'State_ID'\n",
       "3. 'Total_Population.x'\n",
       "4. 'Region.y'\n",
       "5. 'Total_Population.y'\n",
       "6. 'Prison_Population'\n",
       "7. 'Prisoners_per_capita'\n",
       "\n",
       "\n"
      ],
      "text/plain": [
       "[1] \"Region.x\"             \"State_ID\"             \"Total_Population.x\"  \n",
       "[4] \"Region.y\"             \"Total_Population.y\"   \"Prison_Population\"   \n",
       "[7] \"Prisoners_per_capita\""
      ]
     },
     "metadata": {},
     "output_type": "display_data"
    }
   ],
   "source": [
    "names(total_census)"
   ]
  },
  {
   "cell_type": "code",
   "execution_count": 33,
   "metadata": {
    "collapsed": true
   },
   "outputs": [],
   "source": [
    "total_census <- total_census %>% select(Region.x, State_ID,Total_Population.x, Total_Population.y)"
   ]
  },
  {
   "cell_type": "code",
   "execution_count": 34,
   "metadata": {
    "collapsed": true
   },
   "outputs": [],
   "source": [
    "names(total_census) <- c(\"Region\", \"State_ID\", \"Population_2000\", \"Population_2010\")"
   ]
  },
  {
   "cell_type": "code",
   "execution_count": 35,
   "metadata": {},
   "outputs": [
    {
     "data": {
      "text/html": [
       "<table>\n",
       "<thead><tr><th scope=col>Region</th><th scope=col>State_ID</th><th scope=col>Population_2000</th><th scope=col>Population_2010</th></tr></thead>\n",
       "<tbody>\n",
       "\t<tr><td>Alabama   </td><td>01        </td><td> 4447100  </td><td> 4779736  </td></tr>\n",
       "\t<tr><td>Alaska    </td><td>02        </td><td>  626932  </td><td>  710231  </td></tr>\n",
       "\t<tr><td>Arizona   </td><td>04        </td><td> 5130632  </td><td> 6392017  </td></tr>\n",
       "\t<tr><td>Arkansas  </td><td>05        </td><td> 2673400  </td><td> 2915918  </td></tr>\n",
       "\t<tr><td>California</td><td>06        </td><td>33871648  </td><td>37253956  </td></tr>\n",
       "\t<tr><td>Colorado  </td><td>08        </td><td> 4301261  </td><td> 5029196  </td></tr>\n",
       "</tbody>\n",
       "</table>\n"
      ],
      "text/latex": [
       "\\begin{tabular}{r|llll}\n",
       " Region & State\\_ID & Population\\_2000 & Population\\_2010\\\\\n",
       "\\hline\n",
       "\t Alabama    & 01         &  4447100   &  4779736  \\\\\n",
       "\t Alaska     & 02         &   626932   &   710231  \\\\\n",
       "\t Arizona    & 04         &  5130632   &  6392017  \\\\\n",
       "\t Arkansas   & 05         &  2673400   &  2915918  \\\\\n",
       "\t California & 06         & 33871648   & 37253956  \\\\\n",
       "\t Colorado   & 08         &  4301261   &  5029196  \\\\\n",
       "\\end{tabular}\n"
      ],
      "text/markdown": [
       "\n",
       "Region | State_ID | Population_2000 | Population_2010 | \n",
       "|---|---|---|---|---|---|\n",
       "| Alabama    | 01         |  4447100   |  4779736   | \n",
       "| Alaska     | 02         |   626932   |   710231   | \n",
       "| Arizona    | 04         |  5130632   |  6392017   | \n",
       "| Arkansas   | 05         |  2673400   |  2915918   | \n",
       "| California | 06         | 33871648   | 37253956   | \n",
       "| Colorado   | 08         |  4301261   |  5029196   | \n",
       "\n",
       "\n"
      ],
      "text/plain": [
       "  Region     State_ID Population_2000 Population_2010\n",
       "1 Alabama    01        4447100         4779736       \n",
       "2 Alaska     02         626932          710231       \n",
       "3 Arizona    04        5130632         6392017       \n",
       "4 Arkansas   05        2673400         2915918       \n",
       "5 California 06       33871648        37253956       \n",
       "6 Colorado   08        4301261         5029196       "
      ]
     },
     "metadata": {},
     "output_type": "display_data"
    }
   ],
   "source": [
    "head(total_census)"
   ]
  },
  {
   "cell_type": "markdown",
   "metadata": {},
   "source": [
    "### Population Growth\n",
    "\n",
    "What 5 states saw the most population growth from 2000 to 2010?"
   ]
  },
  {
   "cell_type": "code",
   "execution_count": 36,
   "metadata": {
    "collapsed": true
   },
   "outputs": [],
   "source": [
    "total_census <- total_census %>% mutate(Population_Growth = (Population_2010 - Population_2000) / Population_2000)"
   ]
  },
  {
   "cell_type": "code",
   "execution_count": 37,
   "metadata": {
    "collapsed": true
   },
   "outputs": [],
   "source": [
    "Ans <- arrange(total_census, desc(Population_Growth)) %>% slice(1:5)"
   ]
  },
  {
   "cell_type": "code",
   "execution_count": 38,
   "metadata": {},
   "outputs": [
    {
     "data": {
      "text/html": [
       "<table>\n",
       "<thead><tr><th scope=col>Region</th><th scope=col>State_ID</th><th scope=col>Population_2000</th><th scope=col>Population_2010</th><th scope=col>Population_Growth</th></tr></thead>\n",
       "<tbody>\n",
       "\t<tr><td>Nevada   </td><td>32       </td><td> 1998257 </td><td> 2700551 </td><td>0.3514533</td></tr>\n",
       "\t<tr><td>Arizona  </td><td>04       </td><td> 5130632 </td><td> 6392017 </td><td>0.2458537</td></tr>\n",
       "\t<tr><td>Utah     </td><td>49       </td><td> 2233169 </td><td> 2763885 </td><td>0.2376515</td></tr>\n",
       "\t<tr><td>Idaho    </td><td>16       </td><td> 1293953 </td><td> 1567582 </td><td>0.2114675</td></tr>\n",
       "\t<tr><td>Texas    </td><td>48       </td><td>20851820 </td><td>25145561 </td><td>0.2059168</td></tr>\n",
       "</tbody>\n",
       "</table>\n"
      ],
      "text/latex": [
       "\\begin{tabular}{r|lllll}\n",
       " Region & State\\_ID & Population\\_2000 & Population\\_2010 & Population\\_Growth\\\\\n",
       "\\hline\n",
       "\t Nevada    & 32        &  1998257  &  2700551  & 0.3514533\\\\\n",
       "\t Arizona   & 04        &  5130632  &  6392017  & 0.2458537\\\\\n",
       "\t Utah      & 49        &  2233169  &  2763885  & 0.2376515\\\\\n",
       "\t Idaho     & 16        &  1293953  &  1567582  & 0.2114675\\\\\n",
       "\t Texas     & 48        & 20851820  & 25145561  & 0.2059168\\\\\n",
       "\\end{tabular}\n"
      ],
      "text/markdown": [
       "\n",
       "Region | State_ID | Population_2000 | Population_2010 | Population_Growth | \n",
       "|---|---|---|---|---|\n",
       "| Nevada    | 32        |  1998257  |  2700551  | 0.3514533 | \n",
       "| Arizona   | 04        |  5130632  |  6392017  | 0.2458537 | \n",
       "| Utah      | 49        |  2233169  |  2763885  | 0.2376515 | \n",
       "| Idaho     | 16        |  1293953  |  1567582  | 0.2114675 | \n",
       "| Texas     | 48        | 20851820  | 25145561  | 0.2059168 | \n",
       "\n",
       "\n"
      ],
      "text/plain": [
       "  Region  State_ID Population_2000 Population_2010 Population_Growth\n",
       "1 Nevada  32        1998257         2700551        0.3514533        \n",
       "2 Arizona 04        5130632         6392017        0.2458537        \n",
       "3 Utah    49        2233169         2763885        0.2376515        \n",
       "4 Idaho   16        1293953         1567582        0.2114675        \n",
       "5 Texas   48       20851820        25145561        0.2059168        "
      ]
     },
     "metadata": {},
     "output_type": "display_data"
    }
   ],
   "source": [
    "Ans"
   ]
  },
  {
   "cell_type": "markdown",
   "metadata": {},
   "source": [
    "### Population Loss\n",
    "\n",
    "What 5 states saw the most population loss from 2000 to 2010?"
   ]
  },
  {
   "cell_type": "code",
   "execution_count": 39,
   "metadata": {
    "collapsed": true
   },
   "outputs": [],
   "source": [
    "Ans <- arrange(total_census, (Population_Growth)) %>% slice(1:5)"
   ]
  },
  {
   "cell_type": "code",
   "execution_count": 40,
   "metadata": {},
   "outputs": [
    {
     "data": {
      "text/html": [
       "<table>\n",
       "<thead><tr><th scope=col>Region</th><th scope=col>State_ID</th><th scope=col>Population_2000</th><th scope=col>Population_2010</th><th scope=col>Population_Growth</th></tr></thead>\n",
       "<tbody>\n",
       "\t<tr><td>Michigan    </td><td>26          </td><td> 9938444    </td><td> 9883640    </td><td>-0.005514344</td></tr>\n",
       "\t<tr><td>Rhode Island</td><td>44          </td><td> 1048319    </td><td> 1052567    </td><td> 0.004052202</td></tr>\n",
       "\t<tr><td>Louisiana   </td><td>22          </td><td> 4468976    </td><td> 4533372    </td><td> 0.014409565</td></tr>\n",
       "\t<tr><td>Ohio        </td><td>39          </td><td>11353140    </td><td>11536504    </td><td> 0.016150950</td></tr>\n",
       "\t<tr><td>New York    </td><td>36          </td><td>18976457    </td><td>19378102    </td><td> 0.021165437</td></tr>\n",
       "</tbody>\n",
       "</table>\n"
      ],
      "text/latex": [
       "\\begin{tabular}{r|lllll}\n",
       " Region & State\\_ID & Population\\_2000 & Population\\_2010 & Population\\_Growth\\\\\n",
       "\\hline\n",
       "\t Michigan     & 26           &  9938444     &  9883640     & -0.005514344\\\\\n",
       "\t Rhode Island & 44           &  1048319     &  1052567     &  0.004052202\\\\\n",
       "\t Louisiana    & 22           &  4468976     &  4533372     &  0.014409565\\\\\n",
       "\t Ohio         & 39           & 11353140     & 11536504     &  0.016150950\\\\\n",
       "\t New York     & 36           & 18976457     & 19378102     &  0.021165437\\\\\n",
       "\\end{tabular}\n"
      ],
      "text/markdown": [
       "\n",
       "Region | State_ID | Population_2000 | Population_2010 | Population_Growth | \n",
       "|---|---|---|---|---|\n",
       "| Michigan     | 26           |  9938444     |  9883640     | -0.005514344 | \n",
       "| Rhode Island | 44           |  1048319     |  1052567     |  0.004052202 | \n",
       "| Louisiana    | 22           |  4468976     |  4533372     |  0.014409565 | \n",
       "| Ohio         | 39           | 11353140     | 11536504     |  0.016150950 | \n",
       "| New York     | 36           | 18976457     | 19378102     |  0.021165437 | \n",
       "\n",
       "\n"
      ],
      "text/plain": [
       "  Region       State_ID Population_2000 Population_2010 Population_Growth\n",
       "1 Michigan     26        9938444         9883640        -0.005514344     \n",
       "2 Rhode Island 44        1048319         1052567         0.004052202     \n",
       "3 Louisiana    22        4468976         4533372         0.014409565     \n",
       "4 Ohio         39       11353140        11536504         0.016150950     \n",
       "5 New York     36       18976457        19378102         0.021165437     "
      ]
     },
     "metadata": {},
     "output_type": "display_data"
    }
   ],
   "source": [
    "Ans"
   ]
  },
  {
   "cell_type": "markdown",
   "metadata": {},
   "source": [
    "### Fancy Graphics\n",
    "\n",
    "See [Mapping US State, County, and Zipcode Data with R](http://www.poppy-zhang.com/r-coding/mapping-us-state-county-and-zipcode-data-with-r/) and plot a map of the 48 contiguous US states, shaded by their population growth from 2000 to 2010."
   ]
  },
  {
   "cell_type": "code",
   "execution_count": 41,
   "metadata": {},
   "outputs": [
    {
     "name": "stderr",
     "output_type": "stream",
     "text": [
      "Loading required package: ggmap\n"
     ]
    }
   ],
   "source": [
    "require(maps)\n",
    "require(ggmap)"
   ]
  },
  {
   "cell_type": "code",
   "execution_count": 42,
   "metadata": {
    "collapsed": true
   },
   "outputs": [],
   "source": [
    "total_census$state<-tolower(total_census$Region)"
   ]
  },
  {
   "cell_type": "code",
   "execution_count": 43,
   "metadata": {},
   "outputs": [
    {
     "data": {
      "text/html": [
       "<table>\n",
       "<thead><tr><th scope=col>long</th><th scope=col>lat</th><th scope=col>group</th><th scope=col>order</th><th scope=col>region</th><th scope=col>subregion</th></tr></thead>\n",
       "<tbody>\n",
       "\t<tr><td>-87.46201</td><td>30.38968 </td><td>1        </td><td>1        </td><td>alabama  </td><td>NA       </td></tr>\n",
       "\t<tr><td>-87.48493</td><td>30.37249 </td><td>1        </td><td>2        </td><td>alabama  </td><td>NA       </td></tr>\n",
       "\t<tr><td>-87.52503</td><td>30.37249 </td><td>1        </td><td>3        </td><td>alabama  </td><td>NA       </td></tr>\n",
       "\t<tr><td>-87.53076</td><td>30.33239 </td><td>1        </td><td>4        </td><td>alabama  </td><td>NA       </td></tr>\n",
       "\t<tr><td>-87.57087</td><td>30.32665 </td><td>1        </td><td>5        </td><td>alabama  </td><td>NA       </td></tr>\n",
       "\t<tr><td>-87.58806</td><td>30.32665 </td><td>1        </td><td>6        </td><td>alabama  </td><td>NA       </td></tr>\n",
       "</tbody>\n",
       "</table>\n"
      ],
      "text/latex": [
       "\\begin{tabular}{r|llllll}\n",
       " long & lat & group & order & region & subregion\\\\\n",
       "\\hline\n",
       "\t -87.46201 & 30.38968  & 1         & 1         & alabama   & NA       \\\\\n",
       "\t -87.48493 & 30.37249  & 1         & 2         & alabama   & NA       \\\\\n",
       "\t -87.52503 & 30.37249  & 1         & 3         & alabama   & NA       \\\\\n",
       "\t -87.53076 & 30.33239  & 1         & 4         & alabama   & NA       \\\\\n",
       "\t -87.57087 & 30.32665  & 1         & 5         & alabama   & NA       \\\\\n",
       "\t -87.58806 & 30.32665  & 1         & 6         & alabama   & NA       \\\\\n",
       "\\end{tabular}\n"
      ],
      "text/markdown": [
       "\n",
       "long | lat | group | order | region | subregion | \n",
       "|---|---|---|---|---|---|\n",
       "| -87.46201 | 30.38968  | 1         | 1         | alabama   | NA        | \n",
       "| -87.48493 | 30.37249  | 1         | 2         | alabama   | NA        | \n",
       "| -87.52503 | 30.37249  | 1         | 3         | alabama   | NA        | \n",
       "| -87.53076 | 30.33239  | 1         | 4         | alabama   | NA        | \n",
       "| -87.57087 | 30.32665  | 1         | 5         | alabama   | NA        | \n",
       "| -87.58806 | 30.32665  | 1         | 6         | alabama   | NA        | \n",
       "\n",
       "\n"
      ],
      "text/plain": [
       "  long      lat      group order region  subregion\n",
       "1 -87.46201 30.38968 1     1     alabama NA       \n",
       "2 -87.48493 30.37249 1     2     alabama NA       \n",
       "3 -87.52503 30.37249 1     3     alabama NA       \n",
       "4 -87.53076 30.33239 1     4     alabama NA       \n",
       "5 -87.57087 30.32665 1     5     alabama NA       \n",
       "6 -87.58806 30.32665 1     6     alabama NA       "
      ]
     },
     "metadata": {},
     "output_type": "display_data"
    }
   ],
   "source": [
    "states <- map_data(\"state\")\n",
    "head(states)"
   ]
  },
  {
   "cell_type": "code",
   "execution_count": 44,
   "metadata": {
    "collapsed": true
   },
   "outputs": [],
   "source": [
    "cnames<-aggregate(cbind(long,lat)~region, data=states, FUN=function(x)mean(range(x)))"
   ]
  },
  {
   "cell_type": "code",
   "execution_count": 45,
   "metadata": {},
   "outputs": [
    {
     "data": {
      "text/html": [
       "<table>\n",
       "<thead><tr><th scope=col>region</th><th scope=col>long</th><th scope=col>lat</th></tr></thead>\n",
       "<tbody>\n",
       "\t<tr><td>alabama    </td><td> -86.68851 </td><td>32.62708   </td></tr>\n",
       "\t<tr><td>arizona    </td><td>-111.92444 </td><td>34.17407   </td></tr>\n",
       "\t<tr><td>arkansas   </td><td> -92.13734 </td><td>34.75275   </td></tr>\n",
       "\t<tr><td>california </td><td>-119.25830 </td><td>37.27950   </td></tr>\n",
       "\t<tr><td>colorado   </td><td>-105.55315 </td><td>39.00124   </td></tr>\n",
       "\t<tr><td>connecticut</td><td> -72.75132 </td><td>41.53085   </td></tr>\n",
       "</tbody>\n",
       "</table>\n"
      ],
      "text/latex": [
       "\\begin{tabular}{r|lll}\n",
       " region & long & lat\\\\\n",
       "\\hline\n",
       "\t alabama     &  -86.68851  & 32.62708   \\\\\n",
       "\t arizona     & -111.92444  & 34.17407   \\\\\n",
       "\t arkansas    &  -92.13734  & 34.75275   \\\\\n",
       "\t california  & -119.25830  & 37.27950   \\\\\n",
       "\t colorado    & -105.55315  & 39.00124   \\\\\n",
       "\t connecticut &  -72.75132  & 41.53085   \\\\\n",
       "\\end{tabular}\n"
      ],
      "text/markdown": [
       "\n",
       "region | long | lat | \n",
       "|---|---|---|---|---|---|\n",
       "| alabama     |  -86.68851  | 32.62708    | \n",
       "| arizona     | -111.92444  | 34.17407    | \n",
       "| arkansas    |  -92.13734  | 34.75275    | \n",
       "| california  | -119.25830  | 37.27950    | \n",
       "| colorado    | -105.55315  | 39.00124    | \n",
       "| connecticut |  -72.75132  | 41.53085    | \n",
       "\n",
       "\n"
      ],
      "text/plain": [
       "  region      long       lat     \n",
       "1 alabama      -86.68851 32.62708\n",
       "2 arizona     -111.92444 34.17407\n",
       "3 arkansas     -92.13734 34.75275\n",
       "4 california  -119.25830 37.27950\n",
       "5 colorado    -105.55315 39.00124\n",
       "6 connecticut  -72.75132 41.53085"
      ]
     },
     "metadata": {},
     "output_type": "display_data"
    }
   ],
   "source": [
    "head(cnames)"
   ]
  },
  {
   "cell_type": "code",
   "execution_count": 46,
   "metadata": {
    "collapsed": true
   },
   "outputs": [],
   "source": [
    "plot<-ggplot(total_census, aes(map_id=state))+\n",
    "geom_map(map=states, color =\"black\", aes(fill=Population_Growth))+\n",
    "#geom_text(data=total_census, hjust=0.5, vjust=-0.5, aes(x=states$long, y=states$lat, label=state), color=\"white\", size=4)+\n",
    "#geom_label(data=cnames, aes(x=states$long, y=states$lat), colour=\"white\", label=total_census$state, size=3)+\n",
    "expand_limits(x=states$long, y=states$lat)+\n",
    "scale_fill_gradient(low=\"white\", high=\"red\")+\n",
    "labs(x=NULL, y=NULL)+\n",
    "theme_classic()+\n",
    "theme(panel.border = element_blank(), panel.background = element_blank(), axis.ticks = element_blank(), axis.text = element_blank())"
   ]
  },
  {
   "cell_type": "code",
   "execution_count": 47,
   "metadata": {
    "collapsed": true
   },
   "outputs": [],
   "source": [
    "options(repr.matrix.max.rows=20, repr.matrix.max.cols=10)\n",
    "options(repr.plot.height=5)"
   ]
  },
  {
   "cell_type": "code",
   "execution_count": 48,
   "metadata": {},
   "outputs": [
    {
     "data": {},
     "metadata": {},
     "output_type": "display_data"
    },
    {
     "data": {
      "image/png": "[encoded data removed]",
      "text/plain": [
       "plot without title"
      ]
     },
     "metadata": {},
     "output_type": "display_data"
    }
   ],
   "source": [
    "plot + guides(fill = FALSE)"
   ]
  },
  {
   "cell_type": "markdown",
   "metadata": {},
   "source": [
    "## Go It Alone\n",
    "\n",
    "Identify 5 more questions and answer them using the US Census data.\n",
    "\n",
    "- At least one must use one or more variables not described above.\n",
    "- At least 2 must involve joining more than one table\n",
    "- You aren't restricted to state or even county level - individual census tracts can be interesting\n",
    "- You do not need to keep looking nationwide - you can grab the census tracts in Idaho, for example"
   ]
  },
  {
   "cell_type": "markdown",
   "metadata": {},
   "source": [
    "#### 1. What's the percentage distribution of four races (White, African-American, Hispanic/Latinos, Asian) in Idaho in 2010?"
   ]
  },
  {
   "cell_type": "code",
   "execution_count": 49,
   "metadata": {
    "collapsed": true
   },
   "outputs": [],
   "source": [
    "latest_census = getCensus(name=\"sf1\", vintage=2010, vars=c(\"NAME\", \"P0080003\", \"P0080004\", \"P0090002\", \"P0080006\"), region=\"state:*\")"
   ]
  },
  {
   "cell_type": "code",
   "execution_count": 50,
   "metadata": {},
   "outputs": [
    {
     "data": {
      "text/html": [
       "<table>\n",
       "<thead><tr><th scope=col>State</th><th scope=col>Id</th><th scope=col>White</th><th scope=col>African_American</th><th scope=col>Hispanic_Latinos</th><th scope=col>Asian</th></tr></thead>\n",
       "<tbody>\n",
       "\t<tr><td>Idaho  </td><td>16     </td><td>1396487</td><td>9810   </td><td>175901 </td><td>19069  </td></tr>\n",
       "</tbody>\n",
       "</table>\n"
      ],
      "text/latex": [
       "\\begin{tabular}{r|llllll}\n",
       " State & Id & White & African\\_American & Hispanic\\_Latinos & Asian\\\\\n",
       "\\hline\n",
       "\t Idaho   & 16      & 1396487 & 9810    & 175901  & 19069  \\\\\n",
       "\\end{tabular}\n"
      ],
      "text/markdown": [
       "\n",
       "State | Id | White | African_American | Hispanic_Latinos | Asian | \n",
       "|---|\n",
       "| Idaho   | 16      | 1396487 | 9810    | 175901  | 19069   | \n",
       "\n",
       "\n"
      ],
      "text/plain": [
       "  State Id White   African_American Hispanic_Latinos Asian\n",
       "1 Idaho 16 1396487 9810             175901           19069"
      ]
     },
     "metadata": {},
     "output_type": "display_data"
    }
   ],
   "source": [
    "names(latest_census) <- c('State', 'Id', 'White', 'African_American', 'Hispanic_Latinos', 'Asian')\n",
    "idaho_dist = latest_census %>% filter(State==\"Idaho\")\n",
    "head(idaho_dist)"
   ]
  },
  {
   "cell_type": "code",
   "execution_count": 51,
   "metadata": {},
   "outputs": [
    {
     "data": {
      "image/png": "[encoded data removed]",
      "text/plain": [
       "Plot with title \"Pie Chart of Race distribution in Idaho\""
      ]
     },
     "metadata": {},
     "output_type": "display_data"
    }
   ],
   "source": [
    "# Pie Chart with Percentages\n",
    "slices <- c(idaho_dist$White, idaho_dist$African_American, idaho_dist$Hispanic_Latinos, idaho_dist$Asian) \n",
    "lbls <- c(\"White\", \"African_American\", \"Hisp/Latino\", \"Asian\")\n",
    "pct <- round(slices/sum(slices)*100)\n",
    "lbls <- paste(lbls, pct) # add percents to labels \n",
    "lbls <- paste(lbls,\"%\",sep=\"\") # ad % to labels \n",
    "pie(slices,labels = lbls, col=rainbow(length(lbls)), main=\"Pie Chart of Race distribution in Idaho\")"
   ]
  },
  {
   "cell_type": "markdown",
   "metadata": {
    "collapsed": true
   },
   "source": [
    "#### 2. What's the change in percentage distribution of above races in Idaho from 2000 to 2010?"
   ]
  },
  {
   "cell_type": "code",
   "execution_count": 52,
   "metadata": {
    "collapsed": true
   },
   "outputs": [],
   "source": [
    "old_census = getCensus(name=\"sf1\", vintage=2000, vars=c(\"NAME\", \"P003003\", \"P003004\", \"P004002\", \"P003006\"), region=\"state:*\")"
   ]
  },
  {
   "cell_type": "code",
   "execution_count": 53,
   "metadata": {},
   "outputs": [
    {
     "data": {
      "text/html": [
       "<ol class=list-inline>\n",
       "\t<li>'State'</li>\n",
       "\t<li>'Id'</li>\n",
       "\t<li>'White'</li>\n",
       "\t<li>'African_American'</li>\n",
       "\t<li>'Hispanic_Latinos'</li>\n",
       "\t<li>'Asian'</li>\n",
       "</ol>\n"
      ],
      "text/latex": [
       "\\begin{enumerate*}\n",
       "\\item 'State'\n",
       "\\item 'Id'\n",
       "\\item 'White'\n",
       "\\item 'African\\_American'\n",
       "\\item 'Hispanic\\_Latinos'\n",
       "\\item 'Asian'\n",
       "\\end{enumerate*}\n"
      ],
      "text/markdown": [
       "1. 'State'\n",
       "2. 'Id'\n",
       "3. 'White'\n",
       "4. 'African_American'\n",
       "5. 'Hispanic_Latinos'\n",
       "6. 'Asian'\n",
       "\n",
       "\n"
      ],
      "text/plain": [
       "[1] \"State\"            \"Id\"               \"White\"            \"African_American\"\n",
       "[5] \"Hispanic_Latinos\" \"Asian\"           "
      ]
     },
     "metadata": {},
     "output_type": "display_data"
    }
   ],
   "source": [
    "names(latest_census)"
   ]
  },
  {
   "cell_type": "code",
   "execution_count": 54,
   "metadata": {},
   "outputs": [
    {
     "data": {
      "text/html": [
       "<table>\n",
       "<thead><tr><th scope=col>State</th><th scope=col>Id</th><th scope=col>White</th><th scope=col>African_American</th><th scope=col>Hispanic_Latinos</th><th scope=col>Asian</th></tr></thead>\n",
       "<tbody>\n",
       "\t<tr><td>Alabama   </td><td>01        </td><td> 3275394  </td><td>1251311   </td><td>  185602  </td><td>  53595   </td></tr>\n",
       "\t<tr><td>Alaska    </td><td>02        </td><td>  473576  </td><td>  23263   </td><td>   39249  </td><td>  38135   </td></tr>\n",
       "\t<tr><td>Arizona   </td><td>04        </td><td> 4667121  </td><td> 259008   </td><td> 1895149  </td><td> 176695   </td></tr>\n",
       "\t<tr><td>Arkansas  </td><td>05        </td><td> 2245229  </td><td> 449895   </td><td>  186050  </td><td>  36102   </td></tr>\n",
       "\t<tr><td>California</td><td>06        </td><td>21453934  </td><td>2299072   </td><td>14013719  </td><td>4861007   </td></tr>\n",
       "\t<tr><td>Colorado  </td><td>08        </td><td> 4089202  </td><td> 201737   </td><td> 1038687  </td><td> 139028   </td></tr>\n",
       "</tbody>\n",
       "</table>\n"
      ],
      "text/latex": [
       "\\begin{tabular}{r|llllll}\n",
       " State & Id & White & African\\_American & Hispanic\\_Latinos & Asian\\\\\n",
       "\\hline\n",
       "\t Alabama    & 01         &  3275394   & 1251311    &   185602   &   53595   \\\\\n",
       "\t Alaska     & 02         &   473576   &   23263    &    39249   &   38135   \\\\\n",
       "\t Arizona    & 04         &  4667121   &  259008    &  1895149   &  176695   \\\\\n",
       "\t Arkansas   & 05         &  2245229   &  449895    &   186050   &   36102   \\\\\n",
       "\t California & 06         & 21453934   & 2299072    & 14013719   & 4861007   \\\\\n",
       "\t Colorado   & 08         &  4089202   &  201737    &  1038687   &  139028   \\\\\n",
       "\\end{tabular}\n"
      ],
      "text/markdown": [
       "\n",
       "State | Id | White | African_American | Hispanic_Latinos | Asian | \n",
       "|---|---|---|---|---|---|\n",
       "| Alabama    | 01         |  3275394   | 1251311    |   185602   |   53595    | \n",
       "| Alaska     | 02         |   473576   |   23263    |    39249   |   38135    | \n",
       "| Arizona    | 04         |  4667121   |  259008    |  1895149   |  176695    | \n",
       "| Arkansas   | 05         |  2245229   |  449895    |   186050   |   36102    | \n",
       "| California | 06         | 21453934   | 2299072    | 14013719   | 4861007    | \n",
       "| Colorado   | 08         |  4089202   |  201737    |  1038687   |  139028    | \n",
       "\n",
       "\n"
      ],
      "text/plain": [
       "  State      Id White    African_American Hispanic_Latinos Asian  \n",
       "1 Alabama    01  3275394 1251311            185602           53595\n",
       "2 Alaska     02   473576   23263             39249           38135\n",
       "3 Arizona    04  4667121  259008           1895149          176695\n",
       "4 Arkansas   05  2245229  449895            186050           36102\n",
       "5 California 06 21453934 2299072          14013719         4861007\n",
       "6 Colorado   08  4089202  201737           1038687          139028"
      ]
     },
     "metadata": {},
     "output_type": "display_data"
    }
   ],
   "source": [
    "head(latest_census)"
   ]
  },
  {
   "cell_type": "code",
   "execution_count": 55,
   "metadata": {
    "scrolled": true
   },
   "outputs": [],
   "source": [
    "names(old_census) <- c('State', 'Id', 'White', 'African_American', 'Hispanic_Latinos', 'Asian')\n",
    "old_idaho_dist = old_census %>% filter(State==\"Idaho\")\n",
    "latest_idaho_dist = latest_census %>% filter(Id==16)\n",
    "\n",
    "names(latest_idaho_dist) <- c(\"NAME\", \"Id\",\"White\",\"African_American\",\"Hispanic_Latinos\",\"Asian\")\n",
    "\n",
    "compare_census <- old_idaho_dist %>% inner_join(latest_idaho_dist, by = \"Id\")"
   ]
  },
  {
   "cell_type": "code",
   "execution_count": 56,
   "metadata": {},
   "outputs": [
    {
     "data": {
      "text/html": [
       "<table>\n",
       "<thead><tr><th scope=col>State</th><th scope=col>Change_Percentage_White</th><th scope=col>Change_Percentage_AA</th><th scope=col>Change_Percentage_HL</th><th scope=col>Change_Percentage_Asian</th></tr></thead>\n",
       "<tbody>\n",
       "\t<tr><td>Idaho   </td><td>18.61737</td><td>79.80205</td><td>72.97768</td><td>60.39196</td></tr>\n",
       "</tbody>\n",
       "</table>\n"
      ],
      "text/latex": [
       "\\begin{tabular}{r|lllll}\n",
       " State & Change\\_Percentage\\_White & Change\\_Percentage\\_AA & Change\\_Percentage\\_HL & Change\\_Percentage\\_Asian\\\\\n",
       "\\hline\n",
       "\t Idaho    & 18.61737 & 79.80205 & 72.97768 & 60.39196\\\\\n",
       "\\end{tabular}\n"
      ],
      "text/markdown": [
       "\n",
       "State | Change_Percentage_White | Change_Percentage_AA | Change_Percentage_HL | Change_Percentage_Asian | \n",
       "|---|\n",
       "| Idaho    | 18.61737 | 79.80205 | 72.97768 | 60.39196 | \n",
       "\n",
       "\n"
      ],
      "text/plain": [
       "  State Change_Percentage_White Change_Percentage_AA Change_Percentage_HL\n",
       "1 Idaho 18.61737                79.80205             72.97768            \n",
       "  Change_Percentage_Asian\n",
       "1 60.39196               "
      ]
     },
     "metadata": {},
     "output_type": "display_data"
    }
   ],
   "source": [
    "growth_census <- compare_census %>% \n",
    "mutate(Change_Percentage_White = ((White.y - White.x) / old_idaho_dist$White) * 100, \n",
    "      Change_Percentage_AA = ((African_American.y - African_American.x) / old_idaho_dist$African_American) * 100,\n",
    "      Change_Percentage_HL = ((Hispanic_Latinos.y - Hispanic_Latinos.x) / old_idaho_dist$Hispanic_Latinos) * 100,\n",
    "      Change_Percentage_Asian = ((Asian.y - Asian.x) / old_idaho_dist$Asian) * 100) %>% \n",
    "select(State, Change_Percentage_White, Change_Percentage_AA, Change_Percentage_HL, Change_Percentage_Asian)\n",
    "head(growth_census)"
   ]
  },
  {
   "cell_type": "markdown",
   "metadata": {},
   "source": [
    "#### 3. Which state has highest proportion of people younger than 18?"
   ]
  },
  {
   "cell_type": "code",
   "execution_count": 57,
   "metadata": {
    "collapsed": true
   },
   "outputs": [],
   "source": [
    "young_population = getCensus(name = \"sf1\", vintage = 2010, vars = c(\"NAME\", \"P0010001\", \"P0100001\"), region = \"state:*\")"
   ]
  },
  {
   "cell_type": "code",
   "execution_count": 58,
   "metadata": {
    "collapsed": true
   },
   "outputs": [],
   "source": [
    "names(young_population) <- c(\"state\", \"ID\", \"Total_Population\", \"Adult_Population\")"
   ]
  },
  {
   "cell_type": "code",
   "execution_count": 59,
   "metadata": {
    "collapsed": true
   },
   "outputs": [],
   "source": [
    "young_population$Young_Population <- (young_population$Total_Population - young_population$Adult_Population)\n",
    "young_population$Young_Proportion <- (young_population$Total_Population - young_population$Adult_Population) / young_population$Total_Population\n",
    "#young_population$Old_Proportion<-(young_population$Adult_Population)/young_population$Total_Population"
   ]
  },
  {
   "cell_type": "code",
   "execution_count": 60,
   "metadata": {
    "collapsed": true
   },
   "outputs": [],
   "source": [
    "Ans <- arrange(young_population, desc(Young_Proportion)) %>% slice(1:5)"
   ]
  },
  {
   "cell_type": "code",
   "execution_count": 61,
   "metadata": {
    "scrolled": true
   },
   "outputs": [
    {
     "data": {
      "text/html": [
       "<table>\n",
       "<thead><tr><th scope=col>state</th><th scope=col>ID</th><th scope=col>Total_Population</th><th scope=col>Adult_Population</th><th scope=col>Young_Population</th><th scope=col>Young_Proportion</th></tr></thead>\n",
       "<tbody>\n",
       "\t<tr><td>Utah     </td><td>49       </td><td> 2763885 </td><td> 1892858 </td><td> 871027  </td><td>0.3151459</td></tr>\n",
       "\t<tr><td>Idaho    </td><td>16       </td><td> 1567582 </td><td> 1138510 </td><td> 429072  </td><td>0.2737158</td></tr>\n",
       "\t<tr><td>Texas    </td><td>48       </td><td>25145561 </td><td>18279737 </td><td>6865824  </td><td>0.2730432</td></tr>\n",
       "\t<tr><td>Alaska   </td><td>02       </td><td>  710231 </td><td>  522853 </td><td> 187378  </td><td>0.2638268</td></tr>\n",
       "\t<tr><td>Georgia  </td><td>13       </td><td> 9687653 </td><td> 7196101 </td><td>2491552  </td><td>0.2571884</td></tr>\n",
       "</tbody>\n",
       "</table>\n"
      ],
      "text/latex": [
       "\\begin{tabular}{r|llllll}\n",
       " state & ID & Total\\_Population & Adult\\_Population & Young\\_Population & Young\\_Proportion\\\\\n",
       "\\hline\n",
       "\t Utah      & 49        &  2763885  &  1892858  &  871027   & 0.3151459\\\\\n",
       "\t Idaho     & 16        &  1567582  &  1138510  &  429072   & 0.2737158\\\\\n",
       "\t Texas     & 48        & 25145561  & 18279737  & 6865824   & 0.2730432\\\\\n",
       "\t Alaska    & 02        &   710231  &   522853  &  187378   & 0.2638268\\\\\n",
       "\t Georgia   & 13        &  9687653  &  7196101  & 2491552   & 0.2571884\\\\\n",
       "\\end{tabular}\n"
      ],
      "text/markdown": [
       "\n",
       "state | ID | Total_Population | Adult_Population | Young_Population | Young_Proportion | \n",
       "|---|---|---|---|---|\n",
       "| Utah      | 49        |  2763885  |  1892858  |  871027   | 0.3151459 | \n",
       "| Idaho     | 16        |  1567582  |  1138510  |  429072   | 0.2737158 | \n",
       "| Texas     | 48        | 25145561  | 18279737  | 6865824   | 0.2730432 | \n",
       "| Alaska    | 02        |   710231  |   522853  |  187378   | 0.2638268 | \n",
       "| Georgia   | 13        |  9687653  |  7196101  | 2491552   | 0.2571884 | \n",
       "\n",
       "\n"
      ],
      "text/plain": [
       "  state   ID Total_Population Adult_Population Young_Population\n",
       "1 Utah    49  2763885          1892858          871027         \n",
       "2 Idaho   16  1567582          1138510          429072         \n",
       "3 Texas   48 25145561         18279737         6865824         \n",
       "4 Alaska  02   710231           522853          187378         \n",
       "5 Georgia 13  9687653          7196101         2491552         \n",
       "  Young_Proportion\n",
       "1 0.3151459       \n",
       "2 0.2737158       \n",
       "3 0.2730432       \n",
       "4 0.2638268       \n",
       "5 0.2571884       "
      ]
     },
     "metadata": {},
     "output_type": "display_data"
    }
   ],
   "source": [
    "Ans"
   ]
  },
  {
   "cell_type": "markdown",
   "metadata": {},
   "source": [
    "#### 4. Which were the 5 fastest growing Counties in the United States between 2000 and 2010?"
   ]
  },
  {
   "cell_type": "code",
   "execution_count": 62,
   "metadata": {
    "collapsed": true
   },
   "outputs": [],
   "source": [
    "county_census_2000 <- getCensus(name=\"sf1\", vintage=2000, vars=c(\"NAME\", \"P001001\"), region=\"county:*\")\n",
    "names(county_census_2000)<-c(\"County\", \"State_ID\",\"County_ID\", \"Population\")\n",
    "\n",
    "county_census_2010 <- getCensus(name=\"sf1\", vintage=2010, vars=c(\"NAME\", \"P0010001\"), region=\"county:*\")\n",
    "names(county_census_2010)<-c(\"County\", \"State_ID\",\"County_ID\", \"Population\")\n",
    "\n",
    "county_census_id_2000<-county_census_2000%>%filter(State_ID==16)\n",
    "county_census_id_2010<-county_census_2010%>%filter(State_ID==16)"
   ]
  },
  {
   "cell_type": "code",
   "execution_count": 63,
   "metadata": {
    "collapsed": true
   },
   "outputs": [],
   "source": [
    "usa_county_dist <- county_census_2000 %>% inner_join(county_census_2010, by = c(\"County_ID\",\"State_ID\")) %>% inner_join(total_census %>% select(Region, State_ID), by = \"State_ID\")"
   ]
  },
  {
   "cell_type": "code",
   "execution_count": 64,
   "metadata": {
    "collapsed": true
   },
   "outputs": [],
   "source": [
    "usa_county_dist<-usa_county_dist%>%select(County.x, Region, Population.x, Population.y )"
   ]
  },
  {
   "cell_type": "code",
   "execution_count": 65,
   "metadata": {
    "collapsed": true
   },
   "outputs": [],
   "source": [
    "names(usa_county_dist)<-c(\"County\", \"State\",\"Population_2000\", \"Population_2010\")"
   ]
  },
  {
   "cell_type": "code",
   "execution_count": 66,
   "metadata": {
    "collapsed": true
   },
   "outputs": [],
   "source": [
    "usa_county_dist<-usa_county_dist%>%mutate(Population_difference=Population_2010-Population_2000, Percent_Change=100*(Population_2010-Population_2000)/Population_2000)"
   ]
  },
  {
   "cell_type": "code",
   "execution_count": 67,
   "metadata": {
    "collapsed": true
   },
   "outputs": [],
   "source": [
    "Ans<-arrange(usa_county_dist, desc(Percent_Change))%>%slice(1:5)"
   ]
  },
  {
   "cell_type": "code",
   "execution_count": 68,
   "metadata": {},
   "outputs": [
    {
     "data": {
      "text/html": [
       "<table>\n",
       "<thead><tr><th scope=col>County</th><th scope=col>State</th><th scope=col>Population_2000</th><th scope=col>Population_2010</th><th scope=col>Population_difference</th><th scope=col>Percent_Change</th></tr></thead>\n",
       "<tbody>\n",
       "\t<tr><td>Kendall County</td><td>Illinois      </td><td> 54544        </td><td>114736        </td><td> 60192        </td><td>110.35494     </td></tr>\n",
       "\t<tr><td>Pinal County  </td><td>Arizona       </td><td>179727        </td><td>375770        </td><td>196043        </td><td>109.07821     </td></tr>\n",
       "\t<tr><td>Flagler County</td><td>Florida       </td><td> 49832        </td><td> 95696        </td><td> 45864        </td><td> 92.03725     </td></tr>\n",
       "\t<tr><td>Lincoln County</td><td>South Dakota  </td><td> 24131        </td><td> 44828        </td><td> 20697        </td><td> 85.76934     </td></tr>\n",
       "\t<tr><td>Loudoun County</td><td>Virginia      </td><td>169599        </td><td>312311        </td><td>142712        </td><td> 84.14672     </td></tr>\n",
       "</tbody>\n",
       "</table>\n"
      ],
      "text/latex": [
       "\\begin{tabular}{r|llllll}\n",
       " County & State & Population\\_2000 & Population\\_2010 & Population\\_difference & Percent\\_Change\\\\\n",
       "\\hline\n",
       "\t Kendall County & Illinois       &  54544         & 114736         &  60192         & 110.35494     \\\\\n",
       "\t Pinal County   & Arizona        & 179727         & 375770         & 196043         & 109.07821     \\\\\n",
       "\t Flagler County & Florida        &  49832         &  95696         &  45864         &  92.03725     \\\\\n",
       "\t Lincoln County & South Dakota   &  24131         &  44828         &  20697         &  85.76934     \\\\\n",
       "\t Loudoun County & Virginia       & 169599         & 312311         & 142712         &  84.14672     \\\\\n",
       "\\end{tabular}\n"
      ],
      "text/markdown": [
       "\n",
       "County | State | Population_2000 | Population_2010 | Population_difference | Percent_Change | \n",
       "|---|---|---|---|---|\n",
       "| Kendall County | Illinois       |  54544         | 114736         |  60192         | 110.35494      | \n",
       "| Pinal County   | Arizona        | 179727         | 375770         | 196043         | 109.07821      | \n",
       "| Flagler County | Florida        |  49832         |  95696         |  45864         |  92.03725      | \n",
       "| Lincoln County | South Dakota   |  24131         |  44828         |  20697         |  85.76934      | \n",
       "| Loudoun County | Virginia       | 169599         | 312311         | 142712         |  84.14672      | \n",
       "\n",
       "\n"
      ],
      "text/plain": [
       "  County         State        Population_2000 Population_2010\n",
       "1 Kendall County Illinois      54544          114736         \n",
       "2 Pinal County   Arizona      179727          375770         \n",
       "3 Flagler County Florida       49832           95696         \n",
       "4 Lincoln County South Dakota  24131           44828         \n",
       "5 Loudoun County Virginia     169599          312311         \n",
       "  Population_difference Percent_Change\n",
       "1  60192                110.35494     \n",
       "2 196043                109.07821     \n",
       "3  45864                 92.03725     \n",
       "4  20697                 85.76934     \n",
       "5 142712                 84.14672     "
      ]
     },
     "metadata": {},
     "output_type": "display_data"
    }
   ],
   "source": [
    "Ans"
   ]
  },
  {
   "cell_type": "markdown",
   "metadata": {},
   "source": [
    "#### 5. What is the Population Change for the five Most Populous Counties in USA between 2000 and 2010?"
   ]
  },
  {
   "cell_type": "code",
   "execution_count": 69,
   "metadata": {
    "collapsed": true
   },
   "outputs": [],
   "source": [
    "Ans <- arrange(usa_county_dist, desc(Population_2010, Population_2000)) %>% slice(1:5)"
   ]
  },
  {
   "cell_type": "code",
   "execution_count": 70,
   "metadata": {
    "scrolled": true
   },
   "outputs": [
    {
     "data": {
      "text/html": [
       "<table>\n",
       "<thead><tr><th scope=col>County</th><th scope=col>State</th><th scope=col>Population_2000</th><th scope=col>Population_2010</th><th scope=col>Population_difference</th><th scope=col>Percent_Change</th></tr></thead>\n",
       "<tbody>\n",
       "\t<tr><td>Los Angeles County</td><td>California        </td><td>9519338           </td><td>9818605           </td><td> 299267           </td><td> 3.143780         </td></tr>\n",
       "\t<tr><td>Cook County       </td><td>Illinois          </td><td>5376741           </td><td>5194675           </td><td>-182066           </td><td>-3.386178         </td></tr>\n",
       "\t<tr><td>Harris County     </td><td>Texas             </td><td>3400578           </td><td>4092459           </td><td> 691881           </td><td>20.345982         </td></tr>\n",
       "\t<tr><td>Maricopa County   </td><td>Arizona           </td><td>3072149           </td><td>3817117           </td><td> 744968           </td><td>24.249084         </td></tr>\n",
       "\t<tr><td>San Diego County  </td><td>California        </td><td>2813833           </td><td>3095313           </td><td> 281480           </td><td>10.003437         </td></tr>\n",
       "</tbody>\n",
       "</table>\n"
      ],
      "text/latex": [
       "\\begin{tabular}{r|llllll}\n",
       " County & State & Population\\_2000 & Population\\_2010 & Population\\_difference & Percent\\_Change\\\\\n",
       "\\hline\n",
       "\t Los Angeles County & California         & 9519338            & 9818605            &  299267            &  3.143780         \\\\\n",
       "\t Cook County        & Illinois           & 5376741            & 5194675            & -182066            & -3.386178         \\\\\n",
       "\t Harris County      & Texas              & 3400578            & 4092459            &  691881            & 20.345982         \\\\\n",
       "\t Maricopa County    & Arizona            & 3072149            & 3817117            &  744968            & 24.249084         \\\\\n",
       "\t San Diego County   & California         & 2813833            & 3095313            &  281480            & 10.003437         \\\\\n",
       "\\end{tabular}\n"
      ],
      "text/markdown": [
       "\n",
       "County | State | Population_2000 | Population_2010 | Population_difference | Percent_Change | \n",
       "|---|---|---|---|---|\n",
       "| Los Angeles County | California         | 9519338            | 9818605            |  299267            |  3.143780          | \n",
       "| Cook County        | Illinois           | 5376741            | 5194675            | -182066            | -3.386178          | \n",
       "| Harris County      | Texas              | 3400578            | 4092459            |  691881            | 20.345982          | \n",
       "| Maricopa County    | Arizona            | 3072149            | 3817117            |  744968            | 24.249084          | \n",
       "| San Diego County   | California         | 2813833            | 3095313            |  281480            | 10.003437          | \n",
       "\n",
       "\n"
      ],
      "text/plain": [
       "  County             State      Population_2000 Population_2010\n",
       "1 Los Angeles County California 9519338         9818605        \n",
       "2 Cook County        Illinois   5376741         5194675        \n",
       "3 Harris County      Texas      3400578         4092459        \n",
       "4 Maricopa County    Arizona    3072149         3817117        \n",
       "5 San Diego County   California 2813833         3095313        \n",
       "  Population_difference Percent_Change\n",
       "1  299267                3.143780     \n",
       "2 -182066               -3.386178     \n",
       "3  691881               20.345982     \n",
       "4  744968               24.249084     \n",
       "5  281480               10.003437     "
      ]
     },
     "metadata": {},
     "output_type": "display_data"
    }
   ],
   "source": [
    "Ans"
   ]
  },
  {
   "cell_type": "markdown",
   "metadata": {},
   "source": [
    "#### 6. What is the Population Change for the five Most Populous Counties in Idaho between 2000 and 2010?"
   ]
  },
  {
   "cell_type": "code",
   "execution_count": 71,
   "metadata": {
    "collapsed": true
   },
   "outputs": [],
   "source": [
    "idaho_county_dist<-county_census_id_2000 %>% inner_join(county_census_id_2010, by=\"County_ID\")"
   ]
  },
  {
   "cell_type": "code",
   "execution_count": 72,
   "metadata": {
    "collapsed": true
   },
   "outputs": [],
   "source": [
    "idaho_county_dist<-idaho_county_dist%>%select(County.x, State_ID.x, County_ID, Population.x, Population.y )\n",
    "names(idaho_county_dist)<-c(\"County\", \"State_ID\", \"County_ID\", \"Population_2000\", \"Population_2010\")"
   ]
  },
  {
   "cell_type": "code",
   "execution_count": 73,
   "metadata": {
    "collapsed": true
   },
   "outputs": [],
   "source": [
    "idaho_county_dist<-idaho_county_dist%>%mutate(Population_difference=Population_2010-Population_2000, Percent_Change=100*(Population_2010-Population_2000)/Population_2000)%>%select(County, Population_2000, Population_2010, Population_difference, Percent_Change)"
   ]
  },
  {
   "cell_type": "code",
   "execution_count": 74,
   "metadata": {
    "collapsed": true
   },
   "outputs": [],
   "source": [
    "Ans<-arrange(idaho_county_dist, desc(Population_2010, Population_2000))%>%slice(1:5)"
   ]
  },
  {
   "cell_type": "code",
   "execution_count": 75,
   "metadata": {
    "scrolled": true
   },
   "outputs": [
    {
     "data": {
      "text/html": [
       "<table>\n",
       "<thead><tr><th scope=col>County</th><th scope=col>Population_2000</th><th scope=col>Population_2010</th><th scope=col>Population_difference</th><th scope=col>Percent_Change</th></tr></thead>\n",
       "<tbody>\n",
       "\t<tr><td>Ada County       </td><td>300904           </td><td>392365           </td><td>91461            </td><td>30.39541         </td></tr>\n",
       "\t<tr><td>Canyon County    </td><td>131441           </td><td>188923           </td><td>57482            </td><td>43.73217         </td></tr>\n",
       "\t<tr><td>Kootenai County  </td><td>108685           </td><td>138494           </td><td>29809            </td><td>27.42697         </td></tr>\n",
       "\t<tr><td>Bonneville County</td><td> 82522           </td><td>104234           </td><td>21712            </td><td>26.31056         </td></tr>\n",
       "\t<tr><td>Bannock County   </td><td> 75565           </td><td> 82839           </td><td> 7274            </td><td> 9.62615         </td></tr>\n",
       "</tbody>\n",
       "</table>\n"
      ],
      "text/latex": [
       "\\begin{tabular}{r|lllll}\n",
       " County & Population\\_2000 & Population\\_2010 & Population\\_difference & Percent\\_Change\\\\\n",
       "\\hline\n",
       "\t Ada County        & 300904            & 392365            & 91461             & 30.39541         \\\\\n",
       "\t Canyon County     & 131441            & 188923            & 57482             & 43.73217         \\\\\n",
       "\t Kootenai County   & 108685            & 138494            & 29809             & 27.42697         \\\\\n",
       "\t Bonneville County &  82522            & 104234            & 21712             & 26.31056         \\\\\n",
       "\t Bannock County    &  75565            &  82839            &  7274             &  9.62615         \\\\\n",
       "\\end{tabular}\n"
      ],
      "text/markdown": [
       "\n",
       "County | Population_2000 | Population_2010 | Population_difference | Percent_Change | \n",
       "|---|---|---|---|---|\n",
       "| Ada County        | 300904            | 392365            | 91461             | 30.39541          | \n",
       "| Canyon County     | 131441            | 188923            | 57482             | 43.73217          | \n",
       "| Kootenai County   | 108685            | 138494            | 29809             | 27.42697          | \n",
       "| Bonneville County |  82522            | 104234            | 21712             | 26.31056          | \n",
       "| Bannock County    |  75565            |  82839            |  7274             |  9.62615          | \n",
       "\n",
       "\n"
      ],
      "text/plain": [
       "  County            Population_2000 Population_2010 Population_difference\n",
       "1 Ada County        300904          392365          91461                \n",
       "2 Canyon County     131441          188923          57482                \n",
       "3 Kootenai County   108685          138494          29809                \n",
       "4 Bonneville County  82522          104234          21712                \n",
       "5 Bannock County     75565           82839           7274                \n",
       "  Percent_Change\n",
       "1 30.39541      \n",
       "2 43.73217      \n",
       "3 27.42697      \n",
       "4 26.31056      \n",
       "5  9.62615      "
      ]
     },
     "metadata": {},
     "output_type": "display_data"
    }
   ],
   "source": [
    "Ans"
   ]
  },
  {
   "cell_type": "markdown",
   "metadata": {},
   "source": [
    "## Submitting\n",
    "\n",
    "Export your notebook to HTML and e-mail it to the professor."
   ]
  }
 ],
 "metadata": {
  "kernelspec": {
   "display_name": "R",
   "language": "R",
   "name": "ir"
  },
  "language_info": {
   "codemirror_mode": "r",
   "file_extension": ".r",
   "mimetype": "text/x-r-source",
   "name": "R",
   "pygments_lexer": "r",
   "version": "3.4.1"
  }
 },
 "nbformat": 4,
 "nbformat_minor": 2
}
